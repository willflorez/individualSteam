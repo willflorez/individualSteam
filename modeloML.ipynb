{
 "cells": [
  {
   "cell_type": "markdown",
   "metadata": {},
   "source": [
    "# Modelo de recomendación item-item\n",
    "\n",
    "Se genera un modelo de ML de recomendacion de items por similitud del coseno es decir yo ingreso un articulo y el modelo busca articulos similares y nos los recomienda comparando que tan parecidos son.\n",
    "\n",
    "El modelo de la similitud del coseno funciona comparando vectores, los cuales obtenemos de nuestros datasets, los vectores son comparados en un espacio en el que se evalua el valor del coseno comprendido entre ellos."
   ]
  },
  {
   "cell_type": "markdown",
   "metadata": {},
   "source": [
    "## Carga de archivos necesarios y transformaciones"
   ]
  },
  {
   "cell_type": "code",
   "execution_count": 87,
   "metadata": {},
   "outputs": [],
   "source": [
    "import pandas as pd\n"
   ]
  },
  {
   "cell_type": "code",
   "execution_count": 88,
   "metadata": {},
   "outputs": [
    {
     "data": {
      "text/html": [
       "<div>\n",
       "<style scoped>\n",
       "    .dataframe tbody tr th:only-of-type {\n",
       "        vertical-align: middle;\n",
       "    }\n",
       "\n",
       "    .dataframe tbody tr th {\n",
       "        vertical-align: top;\n",
       "    }\n",
       "\n",
       "    .dataframe thead th {\n",
       "        text-align: right;\n",
       "    }\n",
       "</style>\n",
       "<table border=\"1\" class=\"dataframe\">\n",
       "  <thead>\n",
       "    <tr style=\"text-align: right;\">\n",
       "      <th></th>\n",
       "      <th>publisher</th>\n",
       "      <th>genres</th>\n",
       "      <th>app_name</th>\n",
       "      <th>title</th>\n",
       "      <th>id</th>\n",
       "      <th>developer</th>\n",
       "      <th>release_year</th>\n",
       "      <th>price</th>\n",
       "    </tr>\n",
       "  </thead>\n",
       "  <tbody>\n",
       "    <tr>\n",
       "      <th>0</th>\n",
       "      <td>Kotoshiro</td>\n",
       "      <td>Action</td>\n",
       "      <td>Lost Summoner Kitty</td>\n",
       "      <td>Lost Summoner Kitty</td>\n",
       "      <td>761140</td>\n",
       "      <td>Kotoshiro</td>\n",
       "      <td>2018</td>\n",
       "      <td>4.99</td>\n",
       "    </tr>\n",
       "    <tr>\n",
       "      <th>1</th>\n",
       "      <td>Kotoshiro</td>\n",
       "      <td>Casual</td>\n",
       "      <td>Lost Summoner Kitty</td>\n",
       "      <td>Lost Summoner Kitty</td>\n",
       "      <td>761140</td>\n",
       "      <td>Kotoshiro</td>\n",
       "      <td>2018</td>\n",
       "      <td>4.99</td>\n",
       "    </tr>\n",
       "    <tr>\n",
       "      <th>2</th>\n",
       "      <td>Kotoshiro</td>\n",
       "      <td>Indie</td>\n",
       "      <td>Lost Summoner Kitty</td>\n",
       "      <td>Lost Summoner Kitty</td>\n",
       "      <td>761140</td>\n",
       "      <td>Kotoshiro</td>\n",
       "      <td>2018</td>\n",
       "      <td>4.99</td>\n",
       "    </tr>\n",
       "    <tr>\n",
       "      <th>3</th>\n",
       "      <td>Kotoshiro</td>\n",
       "      <td>Simulation</td>\n",
       "      <td>Lost Summoner Kitty</td>\n",
       "      <td>Lost Summoner Kitty</td>\n",
       "      <td>761140</td>\n",
       "      <td>Kotoshiro</td>\n",
       "      <td>2018</td>\n",
       "      <td>4.99</td>\n",
       "    </tr>\n",
       "    <tr>\n",
       "      <th>4</th>\n",
       "      <td>Kotoshiro</td>\n",
       "      <td>Strategy</td>\n",
       "      <td>Lost Summoner Kitty</td>\n",
       "      <td>Lost Summoner Kitty</td>\n",
       "      <td>761140</td>\n",
       "      <td>Kotoshiro</td>\n",
       "      <td>2018</td>\n",
       "      <td>4.99</td>\n",
       "    </tr>\n",
       "  </tbody>\n",
       "</table>\n",
       "</div>"
      ],
      "text/plain": [
       "   publisher      genres             app_name                title      id  \\\n",
       "0  Kotoshiro      Action  Lost Summoner Kitty  Lost Summoner Kitty  761140   \n",
       "1  Kotoshiro      Casual  Lost Summoner Kitty  Lost Summoner Kitty  761140   \n",
       "2  Kotoshiro       Indie  Lost Summoner Kitty  Lost Summoner Kitty  761140   \n",
       "3  Kotoshiro  Simulation  Lost Summoner Kitty  Lost Summoner Kitty  761140   \n",
       "4  Kotoshiro    Strategy  Lost Summoner Kitty  Lost Summoner Kitty  761140   \n",
       "\n",
       "   developer release_year  price  \n",
       "0  Kotoshiro         2018   4.99  \n",
       "1  Kotoshiro         2018   4.99  \n",
       "2  Kotoshiro         2018   4.99  \n",
       "3  Kotoshiro         2018   4.99  \n",
       "4  Kotoshiro         2018   4.99  "
      ]
     },
     "execution_count": 88,
     "metadata": {},
     "output_type": "execute_result"
    }
   ],
   "source": [
    " \n",
    "df = pd.read_csv(\"games.csv\")\n",
    "df.head()"
   ]
  },
  {
   "cell_type": "code",
   "execution_count": 89,
   "metadata": {},
   "outputs": [],
   "source": [
    "# Se requiere el id y filtrar por titulo en pasos posteriores por lo que debo obtenerlo\n",
    "\n",
    "dfD = df.groupby('title')['id'].sum().reset_index()"
   ]
  },
  {
   "cell_type": "code",
   "execution_count": 90,
   "metadata": {},
   "outputs": [
    {
     "data": {
      "text/html": [
       "<div>\n",
       "<style scoped>\n",
       "    .dataframe tbody tr th:only-of-type {\n",
       "        vertical-align: middle;\n",
       "    }\n",
       "\n",
       "    .dataframe tbody tr th {\n",
       "        vertical-align: top;\n",
       "    }\n",
       "\n",
       "    .dataframe thead th {\n",
       "        text-align: right;\n",
       "    }\n",
       "</style>\n",
       "<table border=\"1\" class=\"dataframe\">\n",
       "  <thead>\n",
       "    <tr style=\"text-align: right;\">\n",
       "      <th></th>\n",
       "      <th>title</th>\n",
       "      <th>id</th>\n",
       "    </tr>\n",
       "  </thead>\n",
       "  <tbody>\n",
       "    <tr>\n",
       "      <th>0</th>\n",
       "      <td>! That Bastard Is Trying To Steal Our Gold !</td>\n",
       "      <td>1799760</td>\n",
       "    </tr>\n",
       "    <tr>\n",
       "      <th>1</th>\n",
       "      <td>\"Barely Attuned Magic Thingy\" Staff</td>\n",
       "      <td>1540815</td>\n",
       "    </tr>\n",
       "    <tr>\n",
       "      <th>2</th>\n",
       "      <td>\"Glow Ball\" - The billiard puzzle game</td>\n",
       "      <td>1553560</td>\n",
       "    </tr>\n",
       "    <tr>\n",
       "      <th>3</th>\n",
       "      <td>\"Just Another Day\" - Seduce Me Otome CD</td>\n",
       "      <td>909580</td>\n",
       "    </tr>\n",
       "    <tr>\n",
       "      <th>4</th>\n",
       "      <td>\"Lethargic Sentience\" Wand</td>\n",
       "      <td>1540820</td>\n",
       "    </tr>\n",
       "  </tbody>\n",
       "</table>\n",
       "</div>"
      ],
      "text/plain": [
       "                                          title       id\n",
       "0  ! That Bastard Is Trying To Steal Our Gold !  1799760\n",
       "1           \"Barely Attuned Magic Thingy\" Staff  1540815\n",
       "2        \"Glow Ball\" - The billiard puzzle game  1553560\n",
       "3       \"Just Another Day\" - Seduce Me Otome CD   909580\n",
       "4                    \"Lethargic Sentience\" Wand  1540820"
      ]
     },
     "execution_count": 90,
     "metadata": {},
     "output_type": "execute_result"
    }
   ],
   "source": [
    "dfD.head()"
   ]
  },
  {
   "cell_type": "markdown",
   "metadata": {},
   "source": [
    "El modelo no requiere de precio, año en que fue lanzado ni del id por lo que se quitan del dataframe."
   ]
  },
  {
   "cell_type": "code",
   "execution_count": 91,
   "metadata": {},
   "outputs": [
    {
     "data": {
      "text/html": [
       "<div>\n",
       "<style scoped>\n",
       "    .dataframe tbody tr th:only-of-type {\n",
       "        vertical-align: middle;\n",
       "    }\n",
       "\n",
       "    .dataframe tbody tr th {\n",
       "        vertical-align: top;\n",
       "    }\n",
       "\n",
       "    .dataframe thead th {\n",
       "        text-align: right;\n",
       "    }\n",
       "</style>\n",
       "<table border=\"1\" class=\"dataframe\">\n",
       "  <thead>\n",
       "    <tr style=\"text-align: right;\">\n",
       "      <th></th>\n",
       "      <th>publisher</th>\n",
       "      <th>genres</th>\n",
       "      <th>title</th>\n",
       "      <th>developer</th>\n",
       "    </tr>\n",
       "  </thead>\n",
       "  <tbody>\n",
       "    <tr>\n",
       "      <th>0</th>\n",
       "      <td>Kotoshiro</td>\n",
       "      <td>Action</td>\n",
       "      <td>Lost Summoner Kitty</td>\n",
       "      <td>Kotoshiro</td>\n",
       "    </tr>\n",
       "    <tr>\n",
       "      <th>1</th>\n",
       "      <td>Kotoshiro</td>\n",
       "      <td>Casual</td>\n",
       "      <td>Lost Summoner Kitty</td>\n",
       "      <td>Kotoshiro</td>\n",
       "    </tr>\n",
       "    <tr>\n",
       "      <th>2</th>\n",
       "      <td>Kotoshiro</td>\n",
       "      <td>Indie</td>\n",
       "      <td>Lost Summoner Kitty</td>\n",
       "      <td>Kotoshiro</td>\n",
       "    </tr>\n",
       "    <tr>\n",
       "      <th>3</th>\n",
       "      <td>Kotoshiro</td>\n",
       "      <td>Simulation</td>\n",
       "      <td>Lost Summoner Kitty</td>\n",
       "      <td>Kotoshiro</td>\n",
       "    </tr>\n",
       "    <tr>\n",
       "      <th>4</th>\n",
       "      <td>Kotoshiro</td>\n",
       "      <td>Strategy</td>\n",
       "      <td>Lost Summoner Kitty</td>\n",
       "      <td>Kotoshiro</td>\n",
       "    </tr>\n",
       "  </tbody>\n",
       "</table>\n",
       "</div>"
      ],
      "text/plain": [
       "   publisher      genres                title  developer\n",
       "0  Kotoshiro      Action  Lost Summoner Kitty  Kotoshiro\n",
       "1  Kotoshiro      Casual  Lost Summoner Kitty  Kotoshiro\n",
       "2  Kotoshiro       Indie  Lost Summoner Kitty  Kotoshiro\n",
       "3  Kotoshiro  Simulation  Lost Summoner Kitty  Kotoshiro\n",
       "4  Kotoshiro    Strategy  Lost Summoner Kitty  Kotoshiro"
      ]
     },
     "execution_count": 91,
     "metadata": {},
     "output_type": "execute_result"
    }
   ],
   "source": [
    "df=df.drop([\"price\",\"id\",\"release_year\",\"app_name\"], axis=1)\n",
    "df.head()"
   ]
  },
  {
   "cell_type": "code",
   "execution_count": 92,
   "metadata": {},
   "outputs": [],
   "source": [
    "# se agrupan los generos en una sola fila.\n",
    "genres_df = df.groupby('title')['genres'].agg(', '.join).reset_index()"
   ]
  },
  {
   "cell_type": "code",
   "execution_count": 93,
   "metadata": {},
   "outputs": [
    {
     "data": {
      "text/html": [
       "<div>\n",
       "<style scoped>\n",
       "    .dataframe tbody tr th:only-of-type {\n",
       "        vertical-align: middle;\n",
       "    }\n",
       "\n",
       "    .dataframe tbody tr th {\n",
       "        vertical-align: top;\n",
       "    }\n",
       "\n",
       "    .dataframe thead th {\n",
       "        text-align: right;\n",
       "    }\n",
       "</style>\n",
       "<table border=\"1\" class=\"dataframe\">\n",
       "  <thead>\n",
       "    <tr style=\"text-align: right;\">\n",
       "      <th></th>\n",
       "      <th>title</th>\n",
       "      <th>genres</th>\n",
       "    </tr>\n",
       "  </thead>\n",
       "  <tbody>\n",
       "    <tr>\n",
       "      <th>0</th>\n",
       "      <td>! That Bastard Is Trying To Steal Our Gold !</td>\n",
       "      <td>Action, Adventure, Casual, Indie</td>\n",
       "    </tr>\n",
       "    <tr>\n",
       "      <th>1</th>\n",
       "      <td>\"Barely Attuned Magic Thingy\" Staff</td>\n",
       "      <td>Action, Free to Play, Indie, Massively Multipl...</td>\n",
       "    </tr>\n",
       "    <tr>\n",
       "      <th>2</th>\n",
       "      <td>\"Glow Ball\" - The billiard puzzle game</td>\n",
       "      <td>Casual, Indie, Sports, Strategy</td>\n",
       "    </tr>\n",
       "    <tr>\n",
       "      <th>3</th>\n",
       "      <td>\"Just Another Day\" - Seduce Me Otome CD</td>\n",
       "      <td>Casual, Simulation</td>\n",
       "    </tr>\n",
       "    <tr>\n",
       "      <th>4</th>\n",
       "      <td>\"Lethargic Sentience\" Wand</td>\n",
       "      <td>Action, Free to Play, Indie, Massively Multipl...</td>\n",
       "    </tr>\n",
       "  </tbody>\n",
       "</table>\n",
       "</div>"
      ],
      "text/plain": [
       "                                          title  \\\n",
       "0  ! That Bastard Is Trying To Steal Our Gold !   \n",
       "1           \"Barely Attuned Magic Thingy\" Staff   \n",
       "2        \"Glow Ball\" - The billiard puzzle game   \n",
       "3       \"Just Another Day\" - Seduce Me Otome CD   \n",
       "4                    \"Lethargic Sentience\" Wand   \n",
       "\n",
       "                                              genres  \n",
       "0                   Action, Adventure, Casual, Indie  \n",
       "1  Action, Free to Play, Indie, Massively Multipl...  \n",
       "2                    Casual, Indie, Sports, Strategy  \n",
       "3                                 Casual, Simulation  \n",
       "4  Action, Free to Play, Indie, Massively Multipl...  "
      ]
     },
     "execution_count": 93,
     "metadata": {},
     "output_type": "execute_result"
    }
   ],
   "source": [
    "genres_df.head()"
   ]
  },
  {
   "cell_type": "code",
   "execution_count": 94,
   "metadata": {},
   "outputs": [],
   "source": [
    "# Se agrupan tambien el publisher por cada fila para eso se requiere antes cambiar el tipo de dato a str\n",
    "\n",
    "df[\"publisher\"] = df[\"publisher\"].astype(str)\n",
    "\n",
    "publisher_df = df.groupby('title')['publisher'].agg(', '.join).reset_index()"
   ]
  },
  {
   "cell_type": "code",
   "execution_count": 95,
   "metadata": {},
   "outputs": [
    {
     "data": {
      "text/html": [
       "<div>\n",
       "<style scoped>\n",
       "    .dataframe tbody tr th:only-of-type {\n",
       "        vertical-align: middle;\n",
       "    }\n",
       "\n",
       "    .dataframe tbody tr th {\n",
       "        vertical-align: top;\n",
       "    }\n",
       "\n",
       "    .dataframe thead th {\n",
       "        text-align: right;\n",
       "    }\n",
       "</style>\n",
       "<table border=\"1\" class=\"dataframe\">\n",
       "  <thead>\n",
       "    <tr style=\"text-align: right;\">\n",
       "      <th></th>\n",
       "      <th>title</th>\n",
       "      <th>publisher</th>\n",
       "    </tr>\n",
       "  </thead>\n",
       "  <tbody>\n",
       "    <tr>\n",
       "      <th>0</th>\n",
       "      <td>! That Bastard Is Trying To Steal Our Gold !</td>\n",
       "      <td>WTFOMGames, WTFOMGames, WTFOMGames, WTFOMGames</td>\n",
       "    </tr>\n",
       "    <tr>\n",
       "      <th>1</th>\n",
       "      <td>\"Barely Attuned Magic Thingy\" Staff</td>\n",
       "      <td>Sin dato, Sin dato, Sin dato, Sin dato, Sin dato</td>\n",
       "    </tr>\n",
       "    <tr>\n",
       "      <th>2</th>\n",
       "      <td>\"Glow Ball\" - The billiard puzzle game</td>\n",
       "      <td>WTFOMGames, WTFOMGames, WTFOMGames, WTFOMGames</td>\n",
       "    </tr>\n",
       "    <tr>\n",
       "      <th>3</th>\n",
       "      <td>\"Just Another Day\" - Seduce Me Otome CD</td>\n",
       "      <td>Sin dato, Sin dato</td>\n",
       "    </tr>\n",
       "    <tr>\n",
       "      <th>4</th>\n",
       "      <td>\"Lethargic Sentience\" Wand</td>\n",
       "      <td>Sin dato, Sin dato, Sin dato, Sin dato, Sin dato</td>\n",
       "    </tr>\n",
       "  </tbody>\n",
       "</table>\n",
       "</div>"
      ],
      "text/plain": [
       "                                          title  \\\n",
       "0  ! That Bastard Is Trying To Steal Our Gold !   \n",
       "1           \"Barely Attuned Magic Thingy\" Staff   \n",
       "2        \"Glow Ball\" - The billiard puzzle game   \n",
       "3       \"Just Another Day\" - Seduce Me Otome CD   \n",
       "4                    \"Lethargic Sentience\" Wand   \n",
       "\n",
       "                                          publisher  \n",
       "0    WTFOMGames, WTFOMGames, WTFOMGames, WTFOMGames  \n",
       "1  Sin dato, Sin dato, Sin dato, Sin dato, Sin dato  \n",
       "2    WTFOMGames, WTFOMGames, WTFOMGames, WTFOMGames  \n",
       "3                                Sin dato, Sin dato  \n",
       "4  Sin dato, Sin dato, Sin dato, Sin dato, Sin dato  "
      ]
     },
     "execution_count": 95,
     "metadata": {},
     "output_type": "execute_result"
    }
   ],
   "source": [
    "publisher_df.head()"
   ]
  },
  {
   "cell_type": "code",
   "execution_count": 96,
   "metadata": {},
   "outputs": [
    {
     "data": {
      "text/html": [
       "<div>\n",
       "<style scoped>\n",
       "    .dataframe tbody tr th:only-of-type {\n",
       "        vertical-align: middle;\n",
       "    }\n",
       "\n",
       "    .dataframe tbody tr th {\n",
       "        vertical-align: top;\n",
       "    }\n",
       "\n",
       "    .dataframe thead th {\n",
       "        text-align: right;\n",
       "    }\n",
       "</style>\n",
       "<table border=\"1\" class=\"dataframe\">\n",
       "  <thead>\n",
       "    <tr style=\"text-align: right;\">\n",
       "      <th></th>\n",
       "      <th>title</th>\n",
       "      <th>genres</th>\n",
       "      <th>publisher</th>\n",
       "    </tr>\n",
       "  </thead>\n",
       "  <tbody>\n",
       "    <tr>\n",
       "      <th>0</th>\n",
       "      <td>! That Bastard Is Trying To Steal Our Gold !</td>\n",
       "      <td>Action, Adventure, Casual, Indie</td>\n",
       "      <td>WTFOMGames, WTFOMGames, WTFOMGames, WTFOMGames</td>\n",
       "    </tr>\n",
       "    <tr>\n",
       "      <th>1</th>\n",
       "      <td>\"Barely Attuned Magic Thingy\" Staff</td>\n",
       "      <td>Action, Free to Play, Indie, Massively Multipl...</td>\n",
       "      <td>Sin dato, Sin dato, Sin dato, Sin dato, Sin dato</td>\n",
       "    </tr>\n",
       "    <tr>\n",
       "      <th>2</th>\n",
       "      <td>\"Glow Ball\" - The billiard puzzle game</td>\n",
       "      <td>Casual, Indie, Sports, Strategy</td>\n",
       "      <td>WTFOMGames, WTFOMGames, WTFOMGames, WTFOMGames</td>\n",
       "    </tr>\n",
       "    <tr>\n",
       "      <th>3</th>\n",
       "      <td>\"Just Another Day\" - Seduce Me Otome CD</td>\n",
       "      <td>Casual, Simulation</td>\n",
       "      <td>Sin dato, Sin dato</td>\n",
       "    </tr>\n",
       "    <tr>\n",
       "      <th>4</th>\n",
       "      <td>\"Lethargic Sentience\" Wand</td>\n",
       "      <td>Action, Free to Play, Indie, Massively Multipl...</td>\n",
       "      <td>Sin dato, Sin dato, Sin dato, Sin dato, Sin dato</td>\n",
       "    </tr>\n",
       "  </tbody>\n",
       "</table>\n",
       "</div>"
      ],
      "text/plain": [
       "                                          title  \\\n",
       "0  ! That Bastard Is Trying To Steal Our Gold !   \n",
       "1           \"Barely Attuned Magic Thingy\" Staff   \n",
       "2        \"Glow Ball\" - The billiard puzzle game   \n",
       "3       \"Just Another Day\" - Seduce Me Otome CD   \n",
       "4                    \"Lethargic Sentience\" Wand   \n",
       "\n",
       "                                              genres  \\\n",
       "0                   Action, Adventure, Casual, Indie   \n",
       "1  Action, Free to Play, Indie, Massively Multipl...   \n",
       "2                    Casual, Indie, Sports, Strategy   \n",
       "3                                 Casual, Simulation   \n",
       "4  Action, Free to Play, Indie, Massively Multipl...   \n",
       "\n",
       "                                          publisher  \n",
       "0    WTFOMGames, WTFOMGames, WTFOMGames, WTFOMGames  \n",
       "1  Sin dato, Sin dato, Sin dato, Sin dato, Sin dato  \n",
       "2    WTFOMGames, WTFOMGames, WTFOMGames, WTFOMGames  \n",
       "3                                Sin dato, Sin dato  \n",
       "4  Sin dato, Sin dato, Sin dato, Sin dato, Sin dato  "
      ]
     },
     "execution_count": 96,
     "metadata": {},
     "output_type": "execute_result"
    }
   ],
   "source": [
    "# Se unen los dataframes por titulo\n",
    "dfGames =  pd.merge(genres_df,publisher_df, on=\"title\")\n",
    "dfGames.head()"
   ]
  },
  {
   "cell_type": "code",
   "execution_count": 99,
   "metadata": {},
   "outputs": [
    {
     "data": {
      "text/html": [
       "<div>\n",
       "<style scoped>\n",
       "    .dataframe tbody tr th:only-of-type {\n",
       "        vertical-align: middle;\n",
       "    }\n",
       "\n",
       "    .dataframe tbody tr th {\n",
       "        vertical-align: top;\n",
       "    }\n",
       "\n",
       "    .dataframe thead th {\n",
       "        text-align: right;\n",
       "    }\n",
       "</style>\n",
       "<table border=\"1\" class=\"dataframe\">\n",
       "  <thead>\n",
       "    <tr style=\"text-align: right;\">\n",
       "      <th></th>\n",
       "      <th>title</th>\n",
       "      <th>genres</th>\n",
       "    </tr>\n",
       "  </thead>\n",
       "  <tbody>\n",
       "    <tr>\n",
       "      <th>0</th>\n",
       "      <td>! That Bastard Is Trying To Steal Our Gold !</td>\n",
       "      <td>Action, Adventure, Casual, Indie</td>\n",
       "    </tr>\n",
       "    <tr>\n",
       "      <th>1</th>\n",
       "      <td>\"Barely Attuned Magic Thingy\" Staff</td>\n",
       "      <td>Action, Free to Play, Indie, Massively Multipl...</td>\n",
       "    </tr>\n",
       "    <tr>\n",
       "      <th>2</th>\n",
       "      <td>\"Glow Ball\" - The billiard puzzle game</td>\n",
       "      <td>Casual, Indie, Sports, Strategy</td>\n",
       "    </tr>\n",
       "    <tr>\n",
       "      <th>3</th>\n",
       "      <td>\"Just Another Day\" - Seduce Me Otome CD</td>\n",
       "      <td>Casual, Simulation</td>\n",
       "    </tr>\n",
       "    <tr>\n",
       "      <th>4</th>\n",
       "      <td>\"Lethargic Sentience\" Wand</td>\n",
       "      <td>Action, Free to Play, Indie, Massively Multipl...</td>\n",
       "    </tr>\n",
       "    <tr>\n",
       "      <th>...</th>\n",
       "      <td>...</td>\n",
       "      <td>...</td>\n",
       "    </tr>\n",
       "    <tr>\n",
       "      <th>30050</th>\n",
       "      <td>（尘沙惑设定集）Lost in Secular Love - Concept Design ...</td>\n",
       "      <td>Adventure, Casual, Indie, Simulation</td>\n",
       "    </tr>\n",
       "    <tr>\n",
       "      <th>30051</th>\n",
       "      <td>４人打ちアクション麻雀 / ACTION MAHJONG</td>\n",
       "      <td>Action, Casual, Indie, Early Access</td>\n",
       "    </tr>\n",
       "    <tr>\n",
       "      <th>30052</th>\n",
       "      <td>＜/reality＞</td>\n",
       "      <td>Adventure, Indie</td>\n",
       "    </tr>\n",
       "    <tr>\n",
       "      <th>30053</th>\n",
       "      <td>＜/reality＞ Original Soundtrack</td>\n",
       "      <td>Adventure, Indie</td>\n",
       "    </tr>\n",
       "    <tr>\n",
       "      <th>30054</th>\n",
       "      <td>🔴 Circles</td>\n",
       "      <td>Casual, Indie</td>\n",
       "    </tr>\n",
       "  </tbody>\n",
       "</table>\n",
       "<p>30055 rows × 2 columns</p>\n",
       "</div>"
      ],
      "text/plain": [
       "                                                   title  \\\n",
       "0           ! That Bastard Is Trying To Steal Our Gold !   \n",
       "1                    \"Barely Attuned Magic Thingy\" Staff   \n",
       "2                 \"Glow Ball\" - The billiard puzzle game   \n",
       "3                \"Just Another Day\" - Seduce Me Otome CD   \n",
       "4                             \"Lethargic Sentience\" Wand   \n",
       "...                                                  ...   \n",
       "30050  （尘沙惑设定集）Lost in Secular Love - Concept Design ...   \n",
       "30051                       ４人打ちアクション麻雀 / ACTION MAHJONG   \n",
       "30052                                         ＜/reality＞   \n",
       "30053                     ＜/reality＞ Original Soundtrack   \n",
       "30054                                          🔴 Circles   \n",
       "\n",
       "                                                  genres  \n",
       "0                       Action, Adventure, Casual, Indie  \n",
       "1      Action, Free to Play, Indie, Massively Multipl...  \n",
       "2                        Casual, Indie, Sports, Strategy  \n",
       "3                                     Casual, Simulation  \n",
       "4      Action, Free to Play, Indie, Massively Multipl...  \n",
       "...                                                  ...  \n",
       "30050               Adventure, Casual, Indie, Simulation  \n",
       "30051                Action, Casual, Indie, Early Access  \n",
       "30052                                   Adventure, Indie  \n",
       "30053                                   Adventure, Indie  \n",
       "30054                                      Casual, Indie  \n",
       "\n",
       "[30055 rows x 2 columns]"
      ]
     },
     "execution_count": 99,
     "metadata": {},
     "output_type": "execute_result"
    }
   ],
   "source": [
    "dfGames.drop([\"publisher\"], axis=1)"
   ]
  },
  {
   "cell_type": "code",
   "execution_count": 101,
   "metadata": {},
   "outputs": [],
   "source": [
    "dfModelo = dfGames"
   ]
  },
  {
   "cell_type": "code",
   "execution_count": 107,
   "metadata": {},
   "outputs": [],
   "source": [
    "dfModelo.to_csv(\"dfModelo\", index=False)"
   ]
  },
  {
   "cell_type": "code",
   "execution_count": 108,
   "metadata": {},
   "outputs": [],
   "source": [
    "dfMod = pd.read_csv(\"dfModelo\")"
   ]
  },
  {
   "cell_type": "markdown",
   "metadata": {},
   "source": [
    "## Modelo de recomendacion item- item\n",
    "\n",
    "En este apartado se genera el modelo de recomendacion item- item por la similitud del coseno.\n",
    "\n",
    "Se utilizo la libreria scikit learn para este proceso"
   ]
  },
  {
   "cell_type": "code",
   "execution_count": 103,
   "metadata": {},
   "outputs": [],
   "source": [
    "# Se importa vectorizer de sklearn\n",
    "\n",
    "from sklearn.feature_extraction.text import CountVectorizer\n",
    "import numpy as np "
   ]
  },
  {
   "cell_type": "code",
   "execution_count": 104,
   "metadata": {},
   "outputs": [],
   "source": [
    "cv = CountVectorizer(max_features = 5000, stop_words=\"english\")"
   ]
  },
  {
   "cell_type": "code",
   "execution_count": 105,
   "metadata": {},
   "outputs": [
    {
     "data": {
      "text/plain": [
       "(30055, 34)"
      ]
     },
     "execution_count": 105,
     "metadata": {},
     "output_type": "execute_result"
    }
   ],
   "source": [
    "cv.fit_transform(dfMod[\"genres\"]).toarray().shape"
   ]
  },
  {
   "cell_type": "code",
   "execution_count": 106,
   "metadata": {},
   "outputs": [],
   "source": [
    "# Se generan los vectores a comparar \n",
    "vectores = cv.fit_transform(dfMod[\"genres\"]).toarray()"
   ]
  },
  {
   "cell_type": "code",
   "execution_count": 15,
   "metadata": {},
   "outputs": [
    {
     "data": {
      "text/plain": [
       "array([[0, 0, 1, ..., 0, 0, 0],\n",
       "       [0, 0, 1, ..., 0, 0, 0],\n",
       "       [0, 0, 0, ..., 0, 0, 0],\n",
       "       ...,\n",
       "       [0, 0, 0, ..., 0, 0, 0],\n",
       "       [0, 0, 0, ..., 0, 0, 0],\n",
       "       [0, 0, 0, ..., 0, 0, 0]], dtype=int64)"
      ]
     },
     "execution_count": 15,
     "metadata": {},
     "output_type": "execute_result"
    }
   ],
   "source": [
    "# Se observan la forma de los vectores\n",
    "vectores"
   ]
  },
  {
   "cell_type": "code",
   "execution_count": 16,
   "metadata": {},
   "outputs": [],
   "source": [
    "# se llama la liberia de sklearn para la similitud del coseno\n",
    "from sklearn.metrics.pairwise import cosine_similarity"
   ]
  },
  {
   "cell_type": "code",
   "execution_count": 19,
   "metadata": {},
   "outputs": [],
   "source": [
    "# se aplica la similitud del coseno a nuestros vectores\n",
    "similitud = cosine_similarity(vectores)"
   ]
  },
  {
   "cell_type": "code",
   "execution_count": 20,
   "metadata": {},
   "outputs": [
    {
     "data": {
      "text/plain": [
       "array([1.        , 0.37796447, 0.5       , ..., 0.70710678, 0.70710678,\n",
       "       0.70710678])"
      ]
     },
     "execution_count": 20,
     "metadata": {},
     "output_type": "execute_result"
    }
   ],
   "source": [
    "# Se obtiene el array de similitud\n",
    "similitud[0]"
   ]
  },
  {
   "cell_type": "code",
   "execution_count": 21,
   "metadata": {},
   "outputs": [
    {
     "data": {
      "text/plain": [
       "[(158, 1.0), (327, 1.0), (513, 1.0), (656, 1.0), (657, 1.0)]"
      ]
     },
     "execution_count": 21,
     "metadata": {},
     "output_type": "execute_result"
    }
   ],
   "source": [
    "# Ordenamos la similitud entre más similar a menos similar tomando 5 valores\n",
    "sorted(list(enumerate(similitud[0])), reverse=True, key=lambda x:x[1])[1:6]"
   ]
  },
  {
   "cell_type": "code",
   "execution_count": 36,
   "metadata": {},
   "outputs": [],
   "source": [
    "# Se genera una funcion que te da la recomendación por titulo\n",
    "def recomendacion(game):\n",
    "    indice_juegos = dfMod[dfMod[\"title\"]==game].index[0]\n",
    "    distances = similitud[indice_juegos]\n",
    "    lista_juegos = sorted(list(enumerate(distances)), reverse=True, key=lambda x: x[1])[1:6]\n",
    "    recommended_titles = [dfMod.iloc[i[0]]['title'] for i in lista_juegos]\n",
    "    return recommended_titles"
   ]
  },
  {
   "cell_type": "code",
   "execution_count": 40,
   "metadata": {},
   "outputs": [
    {
     "data": {
      "text/plain": [
       "['Adorables',\n",
       " 'Fish or Die',\n",
       " 'LASER STRIKERS',\n",
       " 'More Than Just Chess',\n",
       " 'TREBUCHET']"
      ]
     },
     "execution_count": 40,
     "metadata": {},
     "output_type": "execute_result"
    }
   ],
   "source": [
    "# Se prueba la función \n",
    "recomendacion('\"Glow Ball\" - The billiard puzzle game')"
   ]
  },
  {
   "cell_type": "markdown",
   "metadata": {},
   "source": [
    "## Generación de una tabla de resultados \n",
    "\n",
    "Debido a las limitaciones de render se decidio aplicar el modelo a cada titulo diferente para así obtener un dataframe con las recomendaciones del modelo."
   ]
  },
  {
   "cell_type": "code",
   "execution_count": 41,
   "metadata": {},
   "outputs": [],
   "source": [
    "# Se aplica la función al dataframe para obtener una nueva columna con las recomendaciones ya que es más facil de cargar\n",
    "dfMod['recomendaciones'] = dfMod['title'].apply(recomendacion)"
   ]
  },
  {
   "cell_type": "code",
   "execution_count": 43,
   "metadata": {},
   "outputs": [
    {
     "data": {
      "text/html": [
       "<div>\n",
       "<style scoped>\n",
       "    .dataframe tbody tr th:only-of-type {\n",
       "        vertical-align: middle;\n",
       "    }\n",
       "\n",
       "    .dataframe tbody tr th {\n",
       "        vertical-align: top;\n",
       "    }\n",
       "\n",
       "    .dataframe thead th {\n",
       "        text-align: right;\n",
       "    }\n",
       "</style>\n",
       "<table border=\"1\" class=\"dataframe\">\n",
       "  <thead>\n",
       "    <tr style=\"text-align: right;\">\n",
       "      <th></th>\n",
       "      <th>title</th>\n",
       "      <th>genres</th>\n",
       "      <th>recomendaciones</th>\n",
       "    </tr>\n",
       "  </thead>\n",
       "  <tbody>\n",
       "    <tr>\n",
       "      <th>0</th>\n",
       "      <td>! That Bastard Is Trying To Steal Our Gold !</td>\n",
       "      <td>Action, Adventure, Casual, Indie</td>\n",
       "      <td>[36 Fragments of Midnight, A Goo Adventure, AN...</td>\n",
       "    </tr>\n",
       "    <tr>\n",
       "      <th>1</th>\n",
       "      <td>\"Barely Attuned Magic Thingy\" Staff</td>\n",
       "      <td>Action, Free to Play, Indie, Massively Multipl...</td>\n",
       "      <td>[\"Lethargic Sentience\" Wand, \"Precisely Calibr...</td>\n",
       "    </tr>\n",
       "    <tr>\n",
       "      <th>2</th>\n",
       "      <td>\"Glow Ball\" - The billiard puzzle game</td>\n",
       "      <td>Casual, Indie, Sports, Strategy</td>\n",
       "      <td>[Adorables, Fish or Die, LASER STRIKERS, More ...</td>\n",
       "    </tr>\n",
       "    <tr>\n",
       "      <th>3</th>\n",
       "      <td>\"Just Another Day\" - Seduce Me Otome CD</td>\n",
       "      <td>Casual, Simulation</td>\n",
       "      <td>[Agricultural Simulator 2013 - Steam Edition, ...</td>\n",
       "    </tr>\n",
       "    <tr>\n",
       "      <th>4</th>\n",
       "      <td>\"Lethargic Sentience\" Wand</td>\n",
       "      <td>Action, Free to Play, Indie, Massively Multipl...</td>\n",
       "      <td>[\"Lethargic Sentience\" Wand, \"Precisely Calibr...</td>\n",
       "    </tr>\n",
       "  </tbody>\n",
       "</table>\n",
       "</div>"
      ],
      "text/plain": [
       "                                          title  \\\n",
       "0  ! That Bastard Is Trying To Steal Our Gold !   \n",
       "1           \"Barely Attuned Magic Thingy\" Staff   \n",
       "2        \"Glow Ball\" - The billiard puzzle game   \n",
       "3       \"Just Another Day\" - Seduce Me Otome CD   \n",
       "4                    \"Lethargic Sentience\" Wand   \n",
       "\n",
       "                                              genres  \\\n",
       "0                   Action, Adventure, Casual, Indie   \n",
       "1  Action, Free to Play, Indie, Massively Multipl...   \n",
       "2                    Casual, Indie, Sports, Strategy   \n",
       "3                                 Casual, Simulation   \n",
       "4  Action, Free to Play, Indie, Massively Multipl...   \n",
       "\n",
       "                                     recomendaciones  \n",
       "0  [36 Fragments of Midnight, A Goo Adventure, AN...  \n",
       "1  [\"Lethargic Sentience\" Wand, \"Precisely Calibr...  \n",
       "2  [Adorables, Fish or Die, LASER STRIKERS, More ...  \n",
       "3  [Agricultural Simulator 2013 - Steam Edition, ...  \n",
       "4  [\"Lethargic Sentience\" Wand, \"Precisely Calibr...  "
      ]
     },
     "execution_count": 43,
     "metadata": {},
     "output_type": "execute_result"
    }
   ],
   "source": [
    "dfMod.head()"
   ]
  },
  {
   "cell_type": "markdown",
   "metadata": {},
   "source": [
    "Al realizar la API se evidencia que debo trabajar con id por lo que se convinan dataframes para obtenerlo"
   ]
  },
  {
   "cell_type": "code",
   "execution_count": 45,
   "metadata": {},
   "outputs": [],
   "source": [
    "MODELO = dfMod.drop([\"genres\"], axis=1)"
   ]
  },
  {
   "cell_type": "code",
   "execution_count": 47,
   "metadata": {},
   "outputs": [],
   "source": [
    "MODELO.to_parquet(\"Modelo.parquet\")"
   ]
  },
  {
   "cell_type": "code",
   "execution_count": 48,
   "metadata": {},
   "outputs": [],
   "source": [
    "M1 = pd.read_parquet(\"data/Modelo.parquet\")"
   ]
  },
  {
   "cell_type": "code",
   "execution_count": 54,
   "metadata": {},
   "outputs": [],
   "source": [
    "MODELO = pd.merge(dfD,M1, on=\"title\")"
   ]
  },
  {
   "cell_type": "code",
   "execution_count": 86,
   "metadata": {},
   "outputs": [
    {
     "data": {
      "text/html": [
       "<div>\n",
       "<style scoped>\n",
       "    .dataframe tbody tr th:only-of-type {\n",
       "        vertical-align: middle;\n",
       "    }\n",
       "\n",
       "    .dataframe tbody tr th {\n",
       "        vertical-align: top;\n",
       "    }\n",
       "\n",
       "    .dataframe thead th {\n",
       "        text-align: right;\n",
       "    }\n",
       "</style>\n",
       "<table border=\"1\" class=\"dataframe\">\n",
       "  <thead>\n",
       "    <tr style=\"text-align: right;\">\n",
       "      <th></th>\n",
       "      <th>id</th>\n",
       "      <th>recomendaciones</th>\n",
       "    </tr>\n",
       "  </thead>\n",
       "  <tbody>\n",
       "    <tr>\n",
       "      <th>0</th>\n",
       "      <td>1799760</td>\n",
       "      <td>[36 Fragments of Midnight, A Goo Adventure, AN...</td>\n",
       "    </tr>\n",
       "    <tr>\n",
       "      <th>1</th>\n",
       "      <td>1540815</td>\n",
       "      <td>[\"Lethargic Sentience\" Wand, \"Precisely Calibr...</td>\n",
       "    </tr>\n",
       "    <tr>\n",
       "      <th>2</th>\n",
       "      <td>1553560</td>\n",
       "      <td>[Adorables, Fish or Die, LASER STRIKERS, More ...</td>\n",
       "    </tr>\n",
       "    <tr>\n",
       "      <th>3</th>\n",
       "      <td>909580</td>\n",
       "      <td>[Agricultural Simulator 2013 - Steam Edition, ...</td>\n",
       "    </tr>\n",
       "    <tr>\n",
       "      <th>4</th>\n",
       "      <td>1540820</td>\n",
       "      <td>[\"Lethargic Sentience\" Wand, \"Precisely Calibr...</td>\n",
       "    </tr>\n",
       "  </tbody>\n",
       "</table>\n",
       "</div>"
      ],
      "text/plain": [
       "        id                                    recomendaciones\n",
       "0  1799760  [36 Fragments of Midnight, A Goo Adventure, AN...\n",
       "1  1540815  [\"Lethargic Sentience\" Wand, \"Precisely Calibr...\n",
       "2  1553560  [Adorables, Fish or Die, LASER STRIKERS, More ...\n",
       "3   909580  [Agricultural Simulator 2013 - Steam Edition, ...\n",
       "4  1540820  [\"Lethargic Sentience\" Wand, \"Precisely Calibr..."
      ]
     },
     "execution_count": 86,
     "metadata": {},
     "output_type": "execute_result"
    }
   ],
   "source": [
    "MODELO.head()"
   ]
  },
  {
   "cell_type": "code",
   "execution_count": 57,
   "metadata": {},
   "outputs": [],
   "source": [
    "#Se guarda en parquet para mayor eficiencia\n",
    "MODELO.to_parquet(\"Modelo.parquet\")"
   ]
  },
  {
   "cell_type": "code",
   "execution_count": 58,
   "metadata": {},
   "outputs": [],
   "source": [
    "# Se genera una copia del dataframe para su restauración \n",
    "Modelo = MODELO"
   ]
  },
  {
   "cell_type": "code",
   "execution_count": 74,
   "metadata": {},
   "outputs": [
    {
     "data": {
      "text/html": [
       "<div>\n",
       "<style scoped>\n",
       "    .dataframe tbody tr th:only-of-type {\n",
       "        vertical-align: middle;\n",
       "    }\n",
       "\n",
       "    .dataframe tbody tr th {\n",
       "        vertical-align: top;\n",
       "    }\n",
       "\n",
       "    .dataframe thead th {\n",
       "        text-align: right;\n",
       "    }\n",
       "</style>\n",
       "<table border=\"1\" class=\"dataframe\">\n",
       "  <thead>\n",
       "    <tr style=\"text-align: right;\">\n",
       "      <th></th>\n",
       "      <th>id</th>\n",
       "      <th>recomendaciones</th>\n",
       "    </tr>\n",
       "  </thead>\n",
       "  <tbody>\n",
       "    <tr>\n",
       "      <th>0</th>\n",
       "      <td>1799760</td>\n",
       "      <td>[36 Fragments of Midnight, A Goo Adventure, AN...</td>\n",
       "    </tr>\n",
       "    <tr>\n",
       "      <th>1</th>\n",
       "      <td>1540815</td>\n",
       "      <td>[\"Lethargic Sentience\" Wand, \"Precisely Calibr...</td>\n",
       "    </tr>\n",
       "    <tr>\n",
       "      <th>2</th>\n",
       "      <td>1553560</td>\n",
       "      <td>[Adorables, Fish or Die, LASER STRIKERS, More ...</td>\n",
       "    </tr>\n",
       "    <tr>\n",
       "      <th>3</th>\n",
       "      <td>909580</td>\n",
       "      <td>[Agricultural Simulator 2013 - Steam Edition, ...</td>\n",
       "    </tr>\n",
       "    <tr>\n",
       "      <th>4</th>\n",
       "      <td>1540820</td>\n",
       "      <td>[\"Lethargic Sentience\" Wand, \"Precisely Calibr...</td>\n",
       "    </tr>\n",
       "  </tbody>\n",
       "</table>\n",
       "</div>"
      ],
      "text/plain": [
       "        id                                    recomendaciones\n",
       "0  1799760  [36 Fragments of Midnight, A Goo Adventure, AN...\n",
       "1  1540815  [\"Lethargic Sentience\" Wand, \"Precisely Calibr...\n",
       "2  1553560  [Adorables, Fish or Die, LASER STRIKERS, More ...\n",
       "3   909580  [Agricultural Simulator 2013 - Steam Edition, ...\n",
       "4  1540820  [\"Lethargic Sentience\" Wand, \"Precisely Calibr..."
      ]
     },
     "execution_count": 74,
     "metadata": {},
     "output_type": "execute_result"
    }
   ],
   "source": [
    "Modelo.head()"
   ]
  },
  {
   "cell_type": "code",
   "execution_count": 75,
   "metadata": {},
   "outputs": [
    {
     "name": "stdout",
     "output_type": "stream",
     "text": [
      "<class 'pandas.core.frame.DataFrame'>\n",
      "RangeIndex: 30055 entries, 0 to 30054\n",
      "Data columns (total 2 columns):\n",
      " #   Column           Non-Null Count  Dtype \n",
      "---  ------           --------------  ----- \n",
      " 0   id               30055 non-null  int32 \n",
      " 1   recomendaciones  30055 non-null  object\n",
      "dtypes: int32(1), object(1)\n",
      "memory usage: 352.3+ KB\n"
     ]
    }
   ],
   "source": [
    "Modelo.info()"
   ]
  },
  {
   "cell_type": "markdown",
   "metadata": {},
   "source": [
    "Se hicieron pruebas con las siguientes funciones ya que corren en este entorno pero no en la API"
   ]
  },
  {
   "cell_type": "code",
   "execution_count": 76,
   "metadata": {},
   "outputs": [],
   "source": [
    "# Esta función sirve en el notebook pero no en la API por lo que sr tuvo que cambiar\n",
    "def recomendacion_juego(id_producto):\n",
    "    recomendacion = Modelo[Modelo['id'] == id_producto]['recomendaciones'].iloc[0]\n",
    "    \n",
    "    return {\n",
    "        'Segun el id que proporcionaste te podrian interesar estos juegos': recomendacion\n",
    "    }"
   ]
  },
  {
   "cell_type": "code",
   "execution_count": 77,
   "metadata": {},
   "outputs": [
    {
     "data": {
      "text/plain": [
       "{'Segun el id que proporcionaste te podrian interesar estos juegos': array(['Adorables', 'Fish or Die', 'LASER STRIKERS',\n",
       "        'More Than Just Chess', 'TREBUCHET'], dtype=object)}"
      ]
     },
     "execution_count": 77,
     "metadata": {},
     "output_type": "execute_result"
    }
   ],
   "source": [
    "recomendacion_juego(1553560)"
   ]
  },
  {
   "cell_type": "code",
   "execution_count": 82,
   "metadata": {},
   "outputs": [],
   "source": [
    "# Esta funcion es compatible con la API por lo que fue la que se dejo \n",
    "def obtener_recomendaciones_dict_por_id(id_producto):\n",
    "    recomendaciones = Modelo[Modelo['id'] == id_producto]['recomendaciones'].iloc[0]\n",
    "    \n",
    "    # Verificar si la lista de recomendaciones no está vacía\n",
    "    if len(recomendaciones) > 0:\n",
    "        recomendaciones_dict = {i + 1: juego for i, juego in enumerate(recomendaciones)}\n",
    "        return recomendaciones_dict\n",
    "    else:\n",
    "        # Si la lista de recomendaciones está vacía, devolver un diccionario vacío\n",
    "        return {}"
   ]
  },
  {
   "cell_type": "code",
   "execution_count": 84,
   "metadata": {},
   "outputs": [
    {
     "name": "stdout",
     "output_type": "stream",
     "text": [
      "{1: '\"Lethargic Sentience\" Wand', 2: '\"Precisely Calibrated Stringstick\" Bow', 3: '\"Toy Knife\" Dagger', 4: '\"Unstable Anomaly\" Sword', 5: 'Gangs of Space - Panther Pack'}\n"
     ]
    }
   ],
   "source": [
    "recomendaciones_dict = obtener_recomendaciones_dict_por_id(1540815)\n",
    "print(recomendaciones_dict)"
   ]
  }
 ],
 "metadata": {
  "kernelspec": {
   "display_name": "env",
   "language": "python",
   "name": "python3"
  },
  "language_info": {
   "codemirror_mode": {
    "name": "ipython",
    "version": 3
   },
   "file_extension": ".py",
   "mimetype": "text/x-python",
   "name": "python",
   "nbconvert_exporter": "python",
   "pygments_lexer": "ipython3",
   "version": "3.11.3"
  },
  "orig_nbformat": 4
 },
 "nbformat": 4,
 "nbformat_minor": 2
}
